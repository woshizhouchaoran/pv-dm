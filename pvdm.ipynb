{
 "cells": [
  {
   "cell_type": "code",
   "execution_count": 1,
   "metadata": {},
   "outputs": [],
   "source": [
    "#段落向量构建PVDM"
   ]
  },
  {
   "cell_type": "code",
   "execution_count": 2,
   "metadata": {},
   "outputs": [],
   "source": [
    "#加载第三方库\n",
    "import gensim\n",
    "import smart_open\n",
    "from gensim.models.doc2vec import TaggedDocument, Doc2Vec\n",
    "from xlrd import open_workbook\n",
    "import jieba"
   ]
  },
  {
   "cell_type": "code",
   "execution_count": 3,
   "metadata": {},
   "outputs": [],
   "source": [
    "#加载数据\n",
    "rb = open_workbook('/Users/mccat/PycharmProjects/PlaceDatasetCollectionTools/二次过滤模块/CPData1.0000.xls')\n",
    "# 通过sheet_by_index()获取的sheet没有write()方法\n",
    "rs = rb.sheet_by_index(0)"
   ]
  },
  {
   "cell_type": "code",
   "execution_count": 4,
   "metadata": {},
   "outputs": [],
   "source": [
    "a = jieba.cut(rs.cell(1,1).value)"
   ]
  },
  {
   "cell_type": "code",
   "execution_count": 5,
   "metadata": {},
   "outputs": [
    {
     "name": "stderr",
     "output_type": "stream",
     "text": [
      "Building prefix dict from the default dictionary ...\n",
      "Loading model from cache /var/folders/d3/svrm6_zd5yd_6hjjkrp617d00000gn/T/jieba.cache\n",
      "Loading model cost 0.851 seconds.\n",
      "Prefix dict has been built succesfully.\n"
     ]
    }
   ],
   "source": [
    "cut_list = [ i for i in a ]"
   ]
  },
  {
   "cell_type": "code",
   "execution_count": 6,
   "metadata": {},
   "outputs": [
    {
     "data": {
      "text/plain": [
       "'求吉林长春净月区的所有大学_百度知道'"
      ]
     },
     "execution_count": 6,
     "metadata": {},
     "output_type": "execute_result"
    }
   ],
   "source": [
    "rs.cell(1,1).value"
   ]
  },
  {
   "cell_type": "code",
   "execution_count": 7,
   "metadata": {},
   "outputs": [
    {
     "data": {
      "text/plain": [
       "['求', '吉林长春', '净月区', '的', '所有', '大学', '_', '百度', '知道']"
      ]
     },
     "execution_count": 7,
     "metadata": {},
     "output_type": "execute_result"
    }
   ],
   "source": [
    "cut_list"
   ]
  },
  {
   "cell_type": "code",
   "execution_count": 8,
   "metadata": {},
   "outputs": [],
   "source": [
    "text_list=[]\n",
    "text_lable = []"
   ]
  },
  {
   "cell_type": "code",
   "execution_count": 9,
   "metadata": {},
   "outputs": [],
   "source": [
    "from gensim.models.doc2vec import Doc2Vec, TaggedDocument\n",
    "from gensim.test.utils import get_tmpfile"
   ]
  },
  {
   "cell_type": "code",
   "execution_count": 10,
   "metadata": {},
   "outputs": [],
   "source": [
    "TaggededDocument = gensim.models.doc2vec.TaggedDocument # 输入输出内容都为 词袋 + tag列表，"
   ]
  },
  {
   "cell_type": "code",
   "execution_count": null,
   "metadata": {},
   "outputs": [],
   "source": [
    "def \n",
    "    for text in train_texts_orig:\n",
    "    # 去掉标点\n",
    "    text = re.sub(\"[\\s+\\.\\!\\/_,$%^*(+\\\"\\']+|[+——！，。？、~@#￥%……&*（）]+ \", \"\",text)\n",
    "    # 结巴分词\n",
    "    cut = jieba.cut(text)\n",
    "    # 结巴分词的输出结果为一个生成器\n",
    "    # 把生成器转换为list\n",
    "    cut_list = [ i for i in cut ]\n",
    "    "
   ]
  },
  {
   "cell_type": "code",
   "execution_count": 24,
   "metadata": {},
   "outputs": [
    {
     "name": "stdout",
     "output_type": "stream",
     "text": [
      "求吉林长春净月区的所有大学_百度知道最佳答案: 东北师范大学净月校区 东北师范大学人文学院 吉林农业大学 吉林公安高等专科学校 长春中医药大学 长春税务学院 吉林建筑工程学院净月校区 吉林华侨外国语学校 ...https://zhidao.baidu.com/quest... 求吉林长春净月区的所有大学_百度知道知道求吉林长春净月区的所有大学\n",
      "求吉林长春净月区的所有大学\n",
      "答题抽奖已赞过已踩过已赞过已踩过已赞过已踩过已赞过已踩过已赞过已踩过已赞过已踩过1为你推荐：其他类似问题\n",
      "10\n",
      "\n",
      "3\n",
      "\n",
      "3\n",
      "\n",
      "51\n",
      "\n",
      "1\n",
      "\n",
      "16\n",
      "\n",
      "8\n",
      "\n",
      "32\n",
      "您可能关注的内容等你来答相关搜索 我来答经验宝宝知道作业帮\n",
      "\n",
      "手机版\n",
      "\n",
      "\n",
      "我的知道求吉林长春净月区的所有大学如题，只要净月区的怎么才能报在这些大学的净月校区？...\n",
      "如题，只要净月区的怎么才能报在这些大学的净月校区？\n",
      " 我来答首次认真答题后即可获得3次抽奖机会，100%中奖。3次100%可选中1个或多个下面的关键词，搜索相关资料。也可直接点“搜索资料”搜索整个问题。吉林长春大学\n",
      "最佳答案\n",
      "wanenoble知道合伙人\n",
      "\n",
      "推荐于2017-11-21\n",
      "\n",
      "\n",
      "推荐于2017-11-21\n",
      "wanenoble采纳数：1616获赞数：100100LV4擅长：长春市\n",
      "保险\n",
      "度假旅游\n",
      "家居装修\n",
      "\n",
      "\n",
      "\n",
      "\n",
      "\n",
      "已赞过已踩过<评论收起gomilango知道合伙人\n",
      "\n",
      "2009-06-18\n",
      "\n",
      "\n",
      "2009-06-18\n",
      "gomilango采纳数：1357813578获赞数：7429374293LV20擅长：交通出行\n",
      "\n",
      "\n",
      "\n",
      "\n",
      "\n",
      "已赞过已踩过<评论收起tianzhouyuanna知道合伙人\n",
      "\n",
      "2009-06-19\n",
      "\n",
      "\n",
      "2009-06-19\n",
      "tianzhouyuanna采纳数：110110获赞数：927927LV7擅长：长春市\n",
      "吉林市\n",
      "管理学\n",
      "\n",
      "\n",
      "\n",
      "\n",
      "\n",
      "已赞过已踩过<评论收起小小lspring知道合伙人\n",
      "\n",
      "2009-06-19\n",
      "\n",
      "\n",
      "2009-06-19\n",
      "小小lspring采纳数：5555获赞数：183183LV6擅长：暂未定制\n",
      "暂未定制\n",
      "\n",
      "\n",
      "\n",
      "\n",
      "已赞过已踩过<评论收起citigm知道合伙人\n",
      "\n",
      "2009-06-19\n",
      "\n",
      "\n",
      "2009-06-19\n",
      "citigm采纳数：9999获赞数：323323LV6擅长：暂未定制\n",
      "暂未定制\n",
      "\n",
      "\n",
      "\n",
      "\n",
      "已赞过已踩过<评论收起mxl6257知道合伙人\n",
      "\n",
      "2009-06-18\n",
      "\n",
      "\n",
      "2009-06-18\n",
      "mxl6257采纳数：11481148获赞数：74017401LV12擅长：地区\n",
      "成都市\n",
      "南充市\n",
      "凉山州\n",
      "娱乐休闲\n",
      "\n",
      "\n",
      "\n",
      "\n",
      "\n",
      "已赞过已踩过<评论收起收起2018-06-1110- 广告2013-11-12长春市净月都有哪些学校（所有学校）32011-07-23长春净月有多少所大学？大约共有多少学生2009-09-06长春净月开发区有什么大学？32018-04-04长春净月区属于什么区512011-04-07长春净月都有哪几所大学,哪所有医药专业12011-09-23长春有几个大学城啊？净月大学城和高新区大学城是一个地方么？大...162013-10-30长春哪个地方大学最多82008-09-04长春净月大学城 想知道那里有多少个学校呀 那的学校分布是大概...32 >\n",
      "\n",
      "\n",
      "\n",
      "                            .ec-ui-tip{margin-left:5px}.c-icon{background:url(https://ss1.bdstatic.com/5eN1bjq8AAUYm2zgoY3K/r/www/cache/biz/ecom/common/api/img/ns-credit/icons.png) no-repeat 0 0;_background-image:url(https://ss1.bdstatic.com/5eN1bjq8AAUYm2zgoY3K/r/www/cache/biz/ecom/common/api/img/ns-credit/icons.gif)}.c-frame{margin-bottom:18px}.c-offset{padding-left:10px}.c-gray{color:#666}.c-gap-top-small{margin-top:5px}.c-gap-top{margin-top:10px}.c-gap-bottom-small{margin-bottom:5px}.c-gap-bottom{margin-bottom:10px}.c-gap-left{margin-left:12px}.c-gap-left-small{margin-left:6px}.c-gap-right{margin-right:12px}.c-gap-right-small{margin-right:6px}.c-gap-icon-right-small{margin-right:5px}.c-gap-icon-right{margin-right:10px}.c-gap-icon-left-small{margin-left:5px}.c-gap-icon-left{margin-left:10px}.c-container{width:538px;font-size:13px;line-height:1.54;word-wrap:break-word;word-break:break-all}.c-container .c-container{width:auto}.c-container table{border-collapse:collapse;border-spacing:0}.c-container td{font-size:13px;line-height:1.54}.c-default{font-size:13px;line-height:1.54;word-wrap:break-word;word-break:break-all}.c-container .t,.c-default .t{line-height:1.54}.c-default .t{margin-bottom:0}.cr-content{width:259px;font-size:13px;line-height:1.54;color:#333}.cr-content table{border-collapse:collapse;border-spacing:0}.cr-content td{font-size:13px;line-height:1.54;vertical-align:top}.cr-offset{padding-left:17px}.container_l .cr-content{width:351px}.container_l .cr-content-narrow{width:259px}.cr-title{font-size:14px;line-height:1.29;font-weight:700}.cr-title-sub{float:right;font-size:13px;font-weight:400}.c-row{*zoom:1}.c-row:after{display:block;height:0;content:\"\";clear:both;visibility:hidden}.c-span2{width:29px}.c-span3{width:52px}.c-span4{width:75px}.c-span5{width:98px}.c-span6{width:121px}.c-span7{width:144px}.c-span8{width:167px}.c-span9{width:190px}.c-span10{width:213px}.c-span11{width:236px}.c-span12{width:259px}.c-span13{width:282px}.c-span14{width:305px}.c-span15{width:328px}.c-span16{width:351px}.c-span17{width:374px}.c-span18{width:397px}.c-span19{width:420px}.c-span20{width:443px}.c-span21{width:466px}.c-span22{width:489px}.c-span23{width:512px}.c-span24{width:535px}.c-span2,.c-span3,.c-span4,.c-span5,.c-span6,.c-span7,.c-span8,.c-span9,.c-span10,.c-span11,.c-span12,.c-span13,.c-span14,.c-span15,.c-span16,.c-span17,.c-span18,.c-span19,.c-span20,.c-span21,.c-span22,.c-span23,.c-span24{float:left;_display:inline;margin-right:17px;list-style:none}.c-span-last{margin-right:0}.c-span-last-s{margin-right:0}.container_l .c-span-last-s{margin-right:17px}.cr-content-narrow .c-span-last-s{margin-right:0}.c-border{width:518px;padding:9px;border:1px solid #e3e3e3;border-bottom-color:#e0e0e0;border-right-color:#ececec;box-shadow:1px 2px 1px rgba(0,0,0,.072);-webkit-box-shadow:1px 2px 1px rgba(0,0,0,.072);-moz-box-shadow:1px 2px 1px rgba(0,0,0,.072);-o-box-shadow:1px 2px 1px rgba(0,0,0,.072)}.c-border .c-gap-left{margin-left:10px}.c-border .c-gap-left-small{margin-left:5px}.c-border .c-gap-right{margin-right:10px}.c-border .c-gap-right-small{margin-right:5px}.c-border .c-border{width:auto;padding:0;border:0;box-shadow:none;-webkit-box-shadow:none;-moz-box-shadow:none;-o-box-shadow:none}.c-border .c-span2{width:34px}.c-border .c-span3{width:56px}.c-border .c-span4{width:78px}.c-border .c-span5{width:100px}.c-border .c-span6{width:122px}.c-border .c-span7{width:144px}.c-border .c-span8{width:166px}.c-border .c-span9{width:188px}.c-border .c-span10{width:210px}.c-border .c-span11{width:232px}.c-border .c-span12{width:254px}.c-border .c-span13{width:276px}.c-border .c-span14{width:298px}.c-border .c-span15{width:320px}.c-border .c-span16{width:342px}.c-border .c-span17{width:364px}.c-border .c-span18{width:386px}.c-border .c-span19{width:408px}.c-border .c-span20{width:430px}.c-border .c-span21{width:452px}.c-border .c-span22{width:474px}.c-border .c-span23{width:496px}.c-border .c-span24{width:518px}.c-border .c-span2,.c-border .c-span3,.c-border .c-span4,.c-border .c-span5,.c-border .c-span6,.c-border .c-span7,.c-border .c-span8,.c-border .c-span9,.c-border .c-span10,.c-border .c-span11,.c-border .c-span12,.c-border .c-span13,.c-border .c-span14,.c-border .c-span15,.c-border .c-span16,.c-border .c-span17,.c-border .c-span18,.c-border .c-span19,.c-border .c-span20,.c-border .c-span21,.c-border .c-span22,.c-border .c-span23,.c-border .c-span24{margin-right:10px}.c-border .c-span-last{margin-right:0}.c-border .c-span-last-s{margin-right:0}.c-border .container_l .c-span-last-s{margin-right:10px}.c-loading{display:block;width:50px;height:50px;background:url(http://www.baidu.com/aladdin/img/tools/loading.gif) no-repeat 0 0}.c-vline{display:inline-block;margin:0 3px;border-left:1px solid #ddd;width:0;height:12px;_vertical-align:middle;_overflow:hidden}.c-icon{display:inline-block;width:14px;height:14px;vertical-align:text-bottom;font-style:normal;overflow:hidden}.c-icon-unfold,.c-icon-fold,.c-icon-chevron-unfold,.c-icon-chevron-fold{width:12px;height:12px}.c-icon-star,.c-icon-star-gray{width:60px}.c-icon-qa-empty,.c-icon-safeguard,.c-icon-register-empty,.c-icon-zan,.c-icon-location,.c-icon-warning,.c-icon-doc,.c-icon-xls,.c-icon-ppt,.c-icon-pdf,.c-icon-txt,.c-icon-play-black,.c-icon-gift,.c-icon-baidu-share,.c-icon-bear,.c-icon-sfda,.c-icon-bear-border,.c-icon-location-blue,.c-icon-hotAirBall,.c-icon-moon,.c-icon-streetMap,.c-icon-mv{width:16px;height:16px}.c-icon-bear-circle,.c-icon-warning-circle,.c-icon-warning-triangle{width:18px;height:18px}.c-icon-tieba,.c-icon-zhidao,.c-icon-bear-p,.c-icon-bear-pn{width:24px;height:24px}.c-icon-ball-blue,.c-icon-ball-red{width:38px;height:38px}.c-icon-unfold:hover,.c-icon-fold:hover,.c-icon-chevron-unfold:hover,.c-icon-chevron-fold:hover,.c-icon-download:hover,.c-icon-lyric:hover,.c-icon-v:hover,.c-icon-hui:hover,.c-icon-bao:hover,.c-icon-person:hover,.c-icon-high-v:hover,.c-icon-phone:hover,.c-icon-nuo:hover,.c-icon-med:hover,.c-icon-air:hover,.c-icon-share2:hover,.c-icon-v1:hover,.c-icon-v2:hover,.c-icon-v3:hover{border-color:#388bff}.c-icon-unfold:active,.c-icon-fold:active,.c-icon-chevron-unfold:active,.c-icon-chevron-fold:active,.c-icon-download:active,.c-icon-lyric:active,.c-icon-v:active,.c-icon-hui:active,.c-icon-bao:active,.c-icon-person:active,.c-icon-high-v:active,.c-icon-phone:active,.c-icon-nuo:active,.c-icon-med:active,.c-icon-air:active,.c-icon-share2:active,.c-icon-v1:active,.c-icon-v2:active,.c-icon-v3:active{border-color:#a2a6ab;background-color:#f0f0f0;box-shadow:inset 1px 1px 1px #c7c7c7;-webkit-box-shadow:inset 1px 1px 1px #c7c7c7;-moz-box-shadow:inset 1px 1px 1px #c7c7c7;-o-box-shadow:inset 1px 1px 1px #c7c7c7}.c-icon-unfold,.c-icon-fold,.c-icon-chevron-unfold,.c-icon-chevron-fold,.c-icon-download,.c-icon-lyric{border:1px solid #d8d8d8;cursor:pointer}.c-icon-v,.c-icon-hui,.c-icon-bao,.c-icon-person,.c-icon-high-v,.c-icon-phone,.c-icon-nuo,.c-icon-med,.c-icon-air,.c-icon-share2,.c-icon-v1,.c-icon-v2,.c-icon-v3{border:1px solid #d8d8d8;cursor:pointer;border-color:transparent;_border-color:tomato;_filter:chroma(color=#ff6347)}.c-icon-v1,.c-icon-v2,.c-icon-v3,.c-icon-v1-noborder,.c-icon-v2-noborder,.c-icon-v3-noborder,.c-icon-v1-noborder-disable,.c-icon-v2-noborder-disable,.c-icon-v3-noborder-disable{width:19px}.c-icon-download,.c-icon-lyric{width:16px;height:16px}.c-icon-play-circle,.c-icon-stop-circle{width:18px;height:18px}.c-icon-play-circle-middle,.c-icon-stop-circle-middle{width:24px;height:24px}.c-icon-play-black-large,.c-icon-stop-black-large{width:38px;height:38px}.c-icon-flag{background-position:0 -144px}.c-icon-bus{background-position:-24px -144px}.c-icon-calendar{background-position:-48px -144px}.c-icon-street{background-position:-72px -144px}.c-icon-map{background-position:-96px -144px}.c-icon-bag{background-position:-120px -144px}.c-icon-money{background-position:-144px -144px}.c-icon-game{background-position:-168px -144px}.c-icon-user{background-position:-192px -144px}.c-icon-globe{background-position:-216px -144px}.c-icon-lock{background-position:-240px -144px}.c-icon-plane{background-position:-264px -144px}.c-icon-list{background-position:-288px -144px}.c-icon-star-gray{background-position:-312px -144px}.c-icon-circle-gray{background-position:-384px -144px}.c-icon-triangle-down{background-position:-408px -144px}.c-icon-triangle-up{background-position:-432px -144px}.c-icon-triangle-up-empty{background-position:-456px -144px}.c-icon-sort-gray{background-position:-480px -144px}.c-icon-sort-up{background-position:-504px -144px}.c-icon-sort-down{background-position:-528px -144px}.c-icon-down-gray{background-position:-552px -144px}.c-icon-up-gray{background-position:-576px -144px}.c-icon-download-noborder{background-position:-600px -144px}.c-icon-lyric-noborder{background-position:-624px -144px}.c-icon-download-white{background-position:-648px -144px}.c-icon-close{background-position:-672px -144px}.c-icon-fail{background-position:-696px -144px}.c-icon-success{background-position:-720px -144px}.c-icon-triangle-down-g{background-position:-744px -144px}.c-icon-fullscreen{background-position:0 -168px}.c-icon-safe{background-position:-24px -168px}.c-icon-exchange{background-position:-48px -168px}.c-icon-chevron-bottom{background-position:-72px -168px}.c-icon-chevron-top{background-position:-96px -168px}.c-icon-unfold{background-position:-120px -168px}.c-icon-fold{background-position:-144px -168px}.c-icon-chevron-unfold{background-position:-168px -168px}.c-icon-qa{background-position:-192px -168px}.c-icon-register{background-position:-216px -168px}.c-icon-star{background-position:-240px -168px}.c-icon-star-gray{position:relative}.c-icon-star-gray .c-icon-star{position:absolute;top:0;left:0}.c-icon-play-blue{background-position:-312px -168px}.c-icon-pic{width:16px;background-position:-336px -168px}.c-icon-chevron-fold{background-position:-360px -168px}.c-icon-video{width:18px;background-position:-384px -168px}.c-icon-circle-blue{background-position:-408px -168px}.c-icon-circle-yellow{background-position:-432px -168px}.c-icon-play-white{background-position:-456px -168px}.c-icon-triangle-down-blue{background-position:-480px -168px}.c-icon-chevron-unfold2{background-position:-504px -168px}.c-icon-right{background-position:-528px -168px}.c-icon-right-empty{background-position:-552px -168px}.c-icon-new-corner{width:15px;background-position:-576px -168px}.c-icon-horn{background-position:-600px -168px}.c-icon-right-large{width:18px;background-position:-624px -168px}.c-icon-wrong-large{background-position:-648px -168px}.c-icon-circle-blue-s{background-position:-672px -168px}.c-icon-play-gray{background-position:-696px -168px}.c-icon-up{background-position:-720px -168px}.c-icon-down{background-position:-744px -168px}.c-icon-stable{background-position:-768px -168px}.c-icon-calendar-blue{background-position:-792px -168px}.c-icon-triangle-down-blue2{background-position:-816px -168px}.c-icon-triangle-up-blue2{background-position:-840px -168px}.c-icon-down-blue{background-position:-864px -168px}.c-icon-up-blue{background-position:-888px -168px}.c-icon-ting{background-position:-912px -168px}.c-icon-v,.c-icon-v-noborder{background-position:0 -192px}.c-icon-hui{background-position:-24px -192px}.c-icon-bao{background-position:-48px -192px}.c-icon-phone{background-position:-72px -192px}.c-icon-qa-empty{background-position:-96px -192px}.c-icon-safeguard{background-position:-120px -192px}.c-icon-register-empty{background-position:-144px -192px}.c-icon-zan{background-position:-168px -192px}.c-icon-location{background-position:-240px -192px}.c-icon-warning{background-position:-264px -192px}.c-icon-doc{background-position:-288px -192px}.c-icon-xls{background-position:-312px -192px}.c-icon-ppt{background-position:-336px -192px}.c-icon-pdf{background-position:-360px -192px}.c-icon-txt{background-position:-384px -192px}.c-icon-play-black{background-position:-408px -192px}.c-icon-play-black:hover{background-position:-432px -192px}.c-icon-gift{background-position:-456px -192px}.c-icon-baidu-share{background-position:-480px -192px}.c-icon-bear{background-position:-504px -192px}.c-icon-sfda{width:31px;background-position:-528px -192px}.c-icon-bear-border{background-position:-576px -192px}.c-icon-person,.c-icon-person-noborder{background-position:-600px -192px}.c-icon-location-blue{background-position:-624px -192px}.c-icon-hotAirBall{background-position:-648px -192px}.c-icon-moon{background-position:-672px -192px}.c-icon-streetMap{background-position:-696px -192px}.c-icon-high-v,.c-icon-high-v-noborder{background-position:-720px -192px}.c-icon-nuo{background-position:-744px -192px}.c-icon-mv{background-position:-768px -192px}.c-icon-med{background-position:-816px -192px}.c-icon-air{background-position:-840px -192px}.c-icon-share2{background-position:-864px -192px}.c-icon-v1,.c-icon-v1-noborder{background-position:-888px -192px}.c-icon-v2,.c-icon-v2-noborder{background-position:-912px -192px}.c-icon-v3,.c-icon-v3-noborder{background-position:-936px -192px}.c-icon-v1-noborder-disable{background-position:-960px -192px}.c-icon-v2-noborder-disable{background-position:-984px -192px}.c-icon-v3-noborder-disable{background-position:-1008px -192px}.c-icon-bear-circle{background-position:0 -216px}.c-icon-warning-circle{background-position:-24px -216px}.c-icon-warning-triangle{width:24px;background-position:-48px -216px}.c-icon-ball-red{background-position:0 -240px}.c-icon-ball-blue{background-position:-48px -240px}.c-icon-tieba{background-position:0 -288px}.c-icon-zhidao{background-position:-48px -288px}.c-icon-bear-p{background-position:-96px -288px}.c-icon-bear-pn{background-position:-144px -288px}.c-icon-download{background-position:0 -336px}.c-icon-lyric{background-position:-24px -336px}.c-icon-play-circle{background-position:-48px -336px}.c-icon-play-circle:hover{background-position:-72px -336px}.c-icon-stop-circle{background-position:-96px -336px}.c-icon-stop-circle:hover{background-position:-120px -336px}.c-icon-play-circle-middle{background-position:0 -360px}.c-icon-play-circle-middle:hover{background-position:-48px -360px}.c-icon-stop-circle-middle{background-position:-96px -360px}.c-icon-stop-circle-middle:hover{background-position:-144px -360px}.c-icon-play-black-large{background-position:0 -408px}.c-icon-play-black-large:hover{background-position:-48px -408px}.c-icon-stop-black-large{background-position:-96px -408px}.c-icon-stop-black-large:hover{background-position:-144px -408px}.c-text{display:inline-block;padding:2px;text-align:center;vertical-align:text-bottom;font-size:12px;line-height:100%;font-style:normal;color:#fff;overflow:hidden}a.c-text{text-decoration:none}.c-text-new{background-color:#f13f40}.c-text-info{padding-left:0;padding-right:0;font-weight:700;color:#2b99ff;*vertical-align:baseline;_position:relative;_top:2px}.c-text-info b{_position:relative;_top:-1px}.c-text-info span{padding:0 2px;font-weight:400}.c-text-important{background-color:#1cb7fd}.c-text-public{background-color:#2b99ff}.c-text-warning{background-color:#ff830f}.c-text-prompt{background-color:#f5c537}.c-text-danger{background-color:#f13f40}.c-text-safe{background-color:#52c277}.c-text-empty{padding-top:1px;padding-bottom:1px;border:1px solid #d8d8d8;cursor:pointer;color:#23b9fd;background-color:#fff}.c-text-empty:hover{border-color:#388bff}.c-text-empty:active{border-color:#a2a6ab;background-color:#f0f0f0;box-shadow:inset 1px 1px 1px #c7c7c7;-webkit-box-shadow:inset 1px 1px 1px #c7c7c7;-moz-box-shadow:inset 1px 1px 1px #c7c7c7;-o-box-shadow:inset 1px 1px 1px #c7c7c7}.c-text-mult{padding-left:5px;padding-right:5px}.c-container .vd_newest_main{width:auto}.c-customicon{display:inline-block;width:16px;height:16px;vertical-align:text-bottom;font-style:normal;overflow:hidden}.c-tip-icon i{display:inline-block;cursor:pointer}.c-tip-con{position:absolute;z-index:1;top:22px;left:-35px;background:#fff;border:1px solid #dcdcdc;border:1px solid rgba(0,0,0,.2);-webkit-transition:opacity .218s;transition:opacity .218s;-webkit-box-shadow:0 2px 4px rgba(0,0,0,.2);box-shadow:0 2px 4px rgba(0,0,0,.2);padding:5px 0;display:none;font-size:12px;line-height:20px;text-align:left}.c-tip-arrow{width:0;height:0;font-size:0;line-height:0;display:block;position:absolute;top:-16px}.c-tip-arrow em,.c-tip-arrow ins{width:0;height:0;font-size:0;line-height:0;display:block;position:absolute;border:8px solid #000;border-style:dashed dashed solid}.c-tip-arrow em{border-color:transparent transparent #d8d8d8}.c-tip-arrow ins{border-color:transparent transparent #fff;top:2px}.c-tip-con h3{font-size:12px}.c-tip-con .c-tip-title{margin:0 10px;display:inline-block;width:239px}.c-tip-con .c-tip-info{color:#666;margin:0 10px 1px;width:239px}.c-tip-con .c-tip-cer{width:354px;color:#666;margin:0 10px 1px}.c-tip-con .c-tip-cer ul{margin:0;padding:0;list-style:none}.c-tip-con .c-tip-title{width:auto;_width:354px}.c-tip-con .c-tip-item-i{padding:3px 0 3px 20px;line-height:14px}.c-tip-con .c-tip-item-i .c-tip-item-icon{margin-left:-20px}.c-tip-con .c-tip-menu ul{width:74px}.c-tip-con .c-tip-menu ul{text-align:center}.c-tip-con .c-tip-menu li a{display:block;text-decoration:none;cursor:pointer;background-color:#fff;padding:3px 0;color:#0000d0}.c-tip-con .c-tip-menu li a:hover{display:block;background-color:#ebebeb}.c-tip-con .c-tip-notice{width:239px;padding:0 10px}.c-tip-con .c-tip-notice .c-tip-notice-succ{color:#4cbd37}.c-tip-con .c-tip-notice .c-tip-notice-fail{color:#f13f40}.c-tip-con .c-tip-notice .c-tip-item-succ{color:#444}.c-tip-con .c-tip-notice .c-tip-item-fail{color:#aaa}.c-tip-con .c-tip-notice .c-tip-item-faila{color:#aaa}.c-tip-close{right:10px;position:absolute;cursor:pointer}.c-tools{display:inline}.c-tools-share{width:239px;padding:0 10px}.icp_info{color:#666;margin-top:2px;font-size:13px}.icon-gw,.icon-unsafe-icon{background:#2c99ff;vertical-align:text-bottom;*vertical-align:baseline;height:16px;padding-top:0;padding-bottom:0;padding-left:6px;padding-right:6px;line-height:16px;_padding-top:2px;_height:14px;_line-height:14px;font-size:12px;font-family:simsun;margin-left:10px;overflow:hidden;display:inline-block;-moz-border-radius:1px;-webkit-border-radius:1px;border-radius:1px;color:#fff}a.icon-gw{color:#fff;background:#2196ff;text-decoration:none;cursor:pointer}a.icon-gw:hover{background:#1e87ef}a.icon-gw:active{height:15px;_height:13px;line-height:15px;_line-height:13px;padding-left:5px;background:#1c80d9;border-left:1px solid #145997;border-top:1px solid #145997}.icon-unsafe-icon{background:#e54d4b}#con-at{margin-bottom:15px}#con-ar{margin-bottom:40px}#con-at .result-op{margin-bottom:15px;font-size:13px;line-height:1.52em}#con-ar .result-op{margin-bottom:28px;font-size:13px;line-height:1.52em}#content_left .result-op,#content_left .result{margin-bottom:14px;border-collapse:collapse}#content_left .c-border .result-op,#content_left .c-border .result{margin-bottom:25px}#content_left .c-border .result-op:last-child,#content_left .c-border .result:last-child{margin-bottom:12px}#content_left .result .f,#content_left .result-op .f{padding:0}.subLink_factory{border-collapse:collapse}.subLink_factory td{padding:0}.subLink_factory td.middle,.subLink_factory td.last{color:#666}.subLink_factory td a{text-decoration:underline}.subLink_factory td.rightTd{text-align:right}.subLink_factory_right{width:100%}.subLink_factory_left td{padding-right:26px}.subLink_factory_left td.last{padding:0}.subLink_factory_left td.first{padding-right:75px}.subLink_factory_right td{width:90px}.subLink_factory_right td.first{width:auto}.general_image_pic{margin-top:2px}.general_image_pic a{background:#fff no-repeat center center;text-decoration:none;display:block;overflow:hidden;text-align:center}.c-icon-v1,.c-icon-v2,.c-icon-v3{border:1px solid #d8d8d8;cursor:pointer;border-color:transparent;_border-color:tomato;_filter:chroma(color=#ff6347)}.c-icon-v1:active,.c-icon-v2:active,.c-icon-v3:active{border-color:#a2a6ab;background-color:#f0f0f0;box-shadow:inset 1px 1px 1px #c7c7c7;-webkit-box-shadow:inset 1px 1px 1px #c7c7c7;-moz-box-shadow:inset 1px 1px 1px #c7c7c7;-o-box-shadow:inset 1px 1px 1px #c7c7c7}.c-icon-v1:hover,.c-icon-v2:hover,.c-icon-v3:hover{border-color:#388bff}.opui-honourCard{font-size:12px;color:#666;line-height:1.5em;width:354px}.opui-honourCard-score{width:60px;padding:4px 2px;text-align:center;float:left}.opui-honourCard-score em{width:63px;display:block;font-size:37px;line-height:37px;color:#8e8d8d;font-family:arial;font-style:normal}.opui-honourCard-info{background:#f5f5f5;overflow:hidden;zoom:1}.opui-honourCard-title a{*font-family:Microsoft YaHei}.opui-honourCard-title a i{position:relative;left:-65px;*left:-68px}.opui-honourCard ol{list-style:none;margin:0;padding:0;float:left;_padding-top:5px}.opui-honourCard li{height:20px;line-height:20px;padding-left:20px;_vertical-align:bottom}.opui-honourCard li i{vertical-align:middle;_vertical-align:bottom}.opui-honourCard-selected{color:#2b2a2a;font-weight:700;background:url(https://ss1.bdstatic.com/5eN1bjq8AAUYm2zgoY3K/r/www/cache/biz/ecom/common/api/img/ns-credit/honourCard.png) no-repeat 3px 5px;*background-position:3px 2px}.c-tip-con .c-tip-menu li a{display:block;text-decoration:none;cursor:pointer;background-color:#fff;padding:3px 0;color:#000}\n",
      "\n",
      "                        \n",
      "\n",
      ".EC_ads_list .EC_ads_answer a,.EC_ads_list .EC_ad_title{color:#2D64B3;text-decoration:none}.EC_ads_listborder{padding:10px 32px 19px 29px;border:1px solid #D6D6D6;background-color:#fff;position:relative;zoom:1;margin-bottom:10px}.EC_ads_container{white-space:nowrap;overflow:hidden;padding-left:1px;line-height:20px}.EC_ads_listborder .EC_ads_list a{padding:0;margin:0;font-size:14px}.EC_ads_list li{border-bottom:1px dashed #E3E3E3;height:34px;line-height:34px;white-space:nowrap;overflow:hidden}.EC_ads_listborder .EC_ads_list li a,.EC_ads_listborder .EC_ads_list li font{text-decoration:none}.EC_ads_listtitle{line-height:30px}.EC_ads_list a{float:left}.EC_ads_listborder .EC_ads_list .EC_ads_listurl,.EC_ads_list .EC_ads_listurl:visited{color:green;font-family:arial;font-size:12px;float:right}.EC_ads_listborder .EC_ads_list .EC_ads_v{padding:0 0 0 8px;float:right;+padding:0 0 0 8px;_padding:7px 0 0 8px}.EC_ads_list .EC_ads_answer{font-size:12px;color:#666;float:left}.EC_ads_listborder .EC_ads_list .EC_ads_answer a{float:none;font-size:12px}.EC_ads_listborder a.EC_ad_title{text-decoration:none}.EC_ads_listborder a.EC_ad_title font{text-decoration:none}.EC_ads_listborder a.EC_ad_title:hover{text-decoration:underline}.EC_ads_listborder .EC_ads_list a.EC_ads_tg,.ec_ik220_title .EC_ads_tg{float:right;color:#666;text-decoration:none;font-size:13px;margin-left:8px}.ec_ik220_title .EC_ads_tg{color:#666;text-decoration:none}.ec_ik220_title .EC_ads_tg:hover{text-decoration:none}.ec_ik220_title h2{display:inline}.ec_ik220_fright{float:right}.ec_ik220_clearfix{overflow:hidden;*zoom:1}.ec_ik220_clearfix:after{content:\" \";display:block;height:0;clear:both;visibility:hidden}.EC_ads_listborder .EC_ads_list font{color:#34b458}.wgt-ads .ec_ik220_ads .ec_ik220_aditem a,.ec_ik220_ads .ec_ik220_aditem a,.wgt-ads .EC_ads_list .EC_ads_answer a,.wgt-ads .EC_ads_list .EC_ad_title,.EC_ads_list .EC_ads_container .EC_ads_answer a,.EC_ads_list .EC_ads_container .EC_ad_title{color:#333;text-decoration:none}.wgt-ads .ec_ik220_ads .ec_ik220_aditem .ec_ik220_desc,.ec_ik220_ads .ec_ik220_aditem .ec_ik220_desc{color:#888;font-size:12px}.wgt-ads .ec_ik220_ads .ec_ik220_aditem a:hover,.ec_ik220_ads .ec_ik220_aditem a:hover,.wgt-ads .EC_ads_list .EC_ad_title:hover,.EC_ads_list .EC_ads_container .EC_ads_answer a:hover,.EC_ads_list .EC_ads_container .EC_ad_title:hover{color:#34b458;text-decoration:underline}.wgt-ads .ec_ik220_ads .ec_ik220_aditem .ec_ik220_desc:hover,.ec_ik220_desc:hover{color:#888}广告您可能关注的内容.EC_ads_listborder{padding:25px 30px 20px 30px;margin: 0;border: none;}.ec_ik220_adliststyle2{margin: 4px 0 0 0;}.EC_ads_container .ec_ik220_adliststyle2 li{height: 30px;line-height: 30px;*height: 26px;*line-height: 26px;}.wgt-ads .EC_ads_listborder .EC_ads_container .ec_ik220_adliststyle2 li .EC_ads_listurl:hover,.EC_ads_listborder .EC_ads_container .ec_ik220_adliststyle2 li .EC_ads_listurl:hover,.EC_ads_listurl:hover {text-decoration: underline;}.EC_ads_listborder .EC_ads_list .EC_ads_listurl,.EC_ads_list .EC_ads_listurl:visited {color: #9eadb6;}.EC_ads_listborder .ec_ik220_adliststyle2 li a {font-family: \"Microsoft YaHei\";}.EC_ads_listborder .EC_ads_list font {color: #333;}.wgt-ads .EC_ads_list .EC_ad_title:hover font {color:#34b458;}长春搬家哪家便宜?永祥搬家,贴心为您服务,优惠咨询!\n",
      "\n",
      "www.ccyxbjgs.net拨,详情请咨询找长春净月区搬家公司鸿盛杠杠好!\n",
      "\n",
      "www.ccshsbj.com长春市搬家公司 鑫诚搬家\n",
      "\n",
      "www.xinchengbanjia.com\n",
      "\n",
      "\n",
      "\n",
      "                            !function(e){e.ecom=e.ecom||{},e.ecom.pl=e.ecom.pl||{},e.ecom.pl.imTimesign=parseInt(\"106\",10),e.ecom.pl.searchId=\"099e047d2e445e81\"}(window);!function(e){function n(n){var t=location.href.match(\"debug=1\"),o=window.jQuery||{};if(t)n(e.pl,o);else try{n(e.pl,o)}catch(i){}}e.pl.run=function(e,t){t||1==arguments.length?bds.ready(function(){n(e)}):n(e)},e.pl.q=function(e,n){if(n=n||document,n.getElementsByClassName)return n.getElementsByClassName(e);var t=[],o=n.all||n.getElementsByTagName(\"*\"),i=o.length;e=e.replace(/\\-/g,\"\\\\-\");for(var r=new RegExp(\"(^|\\\\s)\"+e+\"(\\\\s|$)\");--i>=0;)r.test(o[i].className)&&t.push(o[i]);return t}}(window.ecom),function(e){function n(){var e=y.href,n=N.exec(e)||k.exec(e);\n",
      "return n?n[1]:!1}function t(e){var t=n();if(t!==!1){var r=i(t,e);o(r)}}function o(e){var n=\"&ck=\"+[e,g,E,v,d,l,m,p].join(\".\");if(y.href){var t=y.href;-1==t.indexOf(\"&ck=\")?y.href+=n:y.href=t.replace(/&ck=[\\d.]*/,n)}}function i(e,n){for(var t=0,o=0;g*n%99+9>o;o++){{e.length<20?e.length:20}t+=e.charCodeAt(E*o%e.length)}return t}function r(e){e=e||window.event,g++,void 0===l&&(l=e.clientX),void 0===m&&(m=e.clientY),s=(new Date).getTime()}function c(e,n){for(e=e||window.event,y=e.target||e.srcElement;y&&\"A\"!=y.tagName;)y=y.parentNode;\n",
      "w=(new Date).getTime(),E=9999,v=e.clientX,d=e.clientY,p=0===s?0:w-s,t(n)}function a(e,n){h=(new Date).getTime(),E=h-w,t(n)}function u(e,n,t){var o,i,r;for(r in n)o=n[r],i=t[r],window.attachEvent?e.attachEvent(\"on\"+o,i):e.addEventListener(o,i,!1)}function f(e){return[function(e){r(e)},function(n){c(n,e)},function(n){a(n,e)}]}var l=void 0,m=void 0,v=0,d=0,g=0,s=0,w=0,h=0,p=0,E=0,y=0,N=/link\\?url\\=([^\\&]+)/,k=/\\?url\\=([^\\.]+)\\./;e.ck=function(e,n){void 0===e.length&&(e=[e]);for(var t=e.length,o=0,i=f(n);t>o;o++)u(e[o],[\"mouseover\",\"mousedown\",\"mouseup\"],i)\n",
      "}}(window.ecom.pl),window.ecom.pl.run(function(e){for(var n=e.q(\"EC_result\"),t=0;t<n.length;t++){var o=n[t],i=o.getElementsByTagName(\"A\");e.ck(i,window.ecom.pl.imTimesign)}},!1);!function(){function t(){var t={statistics:{identity:{url:\"https://sp1.baidu.com/6KYTfyq72xB3otqbppnN2DJv/v.php\",query:{tag:\"vshenfenhover\"}}}};window.__nsTip__.init(t)}function e(t){for(var e=!1,n=document.getElementsByTagName(\"script\"),i=0,a=n.length;a>i;i++)if(n[i].getAttribute(\"id\")===t){e=!0;break}return e}function n(t,n,i){if(!e(t)){var a=document.getElementsByTagName(\"head\")[0]||document.body,r=document.createElement(\"script\");r.setAttribute(\"type\",\"text/javascript\"),r.setAttribute(\"src\",n),r.setAttribute(\"id\",t),null!=i&&(r.onload=r.onreadystatechange=function(){return r.ready?!1:void(r.readyState&&\"loaded\"!=r.readyState&&\"complete\"!=r.readyState||(r.ready=!0,i()))\n",
      "}),a.appendChild(r)}}if(window.__nsTip__)t();else{var i=\"https://ss1.bdstatic.com/5eN1bjq8AAUYm2zgoY3K/r/www/cache/biz/ecom/common/api/v-nstip/20151117/nstip.js\";n(\"nstip\",i,t)}}();!function(t,e){function n(t){return this.containerId=\"c-tips-container\",this.advertContainerId=[\"ec_zwd_ctner\",\"ec_pc_search\",\"ec_im_220_2062_for_vui_widget\"],this.triangularSign=\"tip-url\",this.delaySeconds=200,this.adventContainer=\"\",this.triangulars=[],this.motherContainer=o.createDom(\"div\"),this.oTipContainer=o.getDom(this.containerId),this.tip=\"\",this.tpl='<div class=\"c-tip-con\"><div><div class=\"c-tip-menu\"><ul><li><a target=\"_blank\" href=\"{{#href}}\">{{#jubao}}</a></li></ul></div></div><div class=\"c-tip-arrow\" style=\"left: 30px;\"><em></em><ins></ins></div></div>',this.arrInit(t)\n",
      "}var i=Array.prototype.slice,r={isListener:document.addEventListener,getOnEvent:function(t,e,n,i){return function(r){var r=r||window.event;return n.call(i||t,r,e,i)===!1?(r.preventDefault(),!1):void 0}}};r.addEventListener=r.isListener?function(t,e,n,i,o){return e=e.replace(/^on/i,\"\"),t.addEventListener(e,r.getOnEvent(t,e,n,i),!!o),t}:function(t,e,n,i){return e=e.replace(/^on/i,\"\"),t.attachEvent(\"on\"+e,r.getOnEvent(t,e,n,i)),t};var o={getDom:function(t,n){return arguments.length<=1?e.getElementById(t):(n||e).getElementsByTagName(t)\n",
      "},createDom:function(t,n,i){var r=e.createElement(t);for(var o in n)r[o]=n[o];return i&&i.appendChild(r),r},getElementsByClassName:function(t,e){for(var n=(e||document).getElementsByTagName(\"*\"),i=new RegExp(\"\\\\b\"+t+\"\\\\b\",\"i\"),r=[],o=0,a=n.length;a>o;o++)i.test(n[o].className)&&r.push(n[o]);return r},getPosition:function(t){var e=t&&t.ownerDocument,n={left:0,top:0};if(!e)return n;var i=t.getBoundingClientRect(),r=e.documentElement,o=r.clientLeft,a=r.clientTop,s=window.pageXOffset||r.scrollLeft,u=window.pageYOffset||r.scrollTop;\n",
      "return n.left=i.left+s-o,n.top=i.top+u-a,n},getStyle:function(t,e){return t.currentStyle?t.currentStyle[e]:getComputedStyle(t,!1)[e]}},a=function(t,e){function n(){if(n=null,\"complete\"===e.readyState)r&&r();else if(e.dispatchEvent)e.addEventListener(\"DOMContentLoaded\",r);else{e.attachEvent(\"onreadystatechange\",function(){\"complete\"===e.readyState&&r&&r()});try{var t=null===window.frameElement}catch(a){}document.documentElement.doScroll&&t&&window.external&&i(function(){r&&r()})}var s=e.dispatchEvent?\"addEventListener\":\"attachEvent\",u=e.dispatchEvent?\"load\":\"onload\";\n",
      "return o[s](u,function(){r&&r()},!1),!0}function i(t){try{document.documentElement.doScroll(\"left\"),t&&t.call(null)}catch(e){setTimeout(function(){i(t)},0)}}function r(){r=null,o.domIsReady=!0;for(var t,e=0,n=a.length;n>e&&(t=a[e]);e++)t.call(null);a=[]}var o=this||(0,eval)(\"this\"),a=[],s=function(t){return t&&\"function\"==typeof t?r?(a.push(t),n&&n()):t.call():!1};return s}(t,e);t.domReady=t.domReady||a,n.prototype={constructor:n,arrInit:function(){for(var t=0;t<this.advertContainerId.length;t++)this.init(this.advertContainerId[t])\n",
      "},init:function(t){return this.adventContainer=o.getDom(t),this.adventContainer?this.reset().initContainer().initTriangulars().bindEvents():this},initContainer:function(){var t=this;return this.oTipContainer||(this.oTipContainer=o.createDom(\"div\",{id:t.containerId,className:t.containerId},e.body)),this},initTriangulars:function(){return this.triangulars=this.getTriangulars(),this},getEvents:function(){var t=this,e={mouseenter:function(){return this.isRendered?(t.showTip.apply(this.tip,i.call(arguments)),this):(this.tip=t.renderTip(this.getAttribute(t.triangularSign),this.getAttribute(\"jubao\")),thi\n"
     ]
    },
    {
     "ename": "KeyboardInterrupt",
     "evalue": "",
     "output_type": "error",
     "traceback": [
      "\u001b[0;31m---------------------------------------------------------------------------\u001b[0m",
      "\u001b[0;31mKeyboardInterrupt\u001b[0m                         Traceback (most recent call last)",
      "\u001b[0;32m<ipython-input-24-00cdc2b719ca>\u001b[0m in \u001b[0;36m<module>\u001b[0;34m()\u001b[0m\n\u001b[1;32m      2\u001b[0m     \u001b[0mst\u001b[0m \u001b[0;34m=\u001b[0m \u001b[0mstr\u001b[0m\u001b[0;34m(\u001b[0m\u001b[0mrs\u001b[0m\u001b[0;34m.\u001b[0m\u001b[0mcell\u001b[0m\u001b[0;34m(\u001b[0m\u001b[0mi\u001b[0m\u001b[0;34m,\u001b[0m\u001b[0;36m1\u001b[0m\u001b[0;34m)\u001b[0m\u001b[0;34m.\u001b[0m\u001b[0mvalue\u001b[0m\u001b[0;34m)\u001b[0m\u001b[0;34m+\u001b[0m\u001b[0mstr\u001b[0m\u001b[0;34m(\u001b[0m\u001b[0mrs\u001b[0m\u001b[0;34m.\u001b[0m\u001b[0mcell\u001b[0m\u001b[0;34m(\u001b[0m\u001b[0mi\u001b[0m\u001b[0;34m,\u001b[0m\u001b[0;36m2\u001b[0m\u001b[0;34m)\u001b[0m\u001b[0;34m.\u001b[0m\u001b[0mvalue\u001b[0m\u001b[0;34m)\u001b[0m\u001b[0;34m+\u001b[0m\u001b[0mstr\u001b[0m\u001b[0;34m(\u001b[0m\u001b[0mrs\u001b[0m\u001b[0;34m.\u001b[0m\u001b[0mcell\u001b[0m\u001b[0;34m(\u001b[0m\u001b[0mi\u001b[0m\u001b[0;34m,\u001b[0m\u001b[0;36m4\u001b[0m\u001b[0;34m)\u001b[0m\u001b[0;34m.\u001b[0m\u001b[0mvalue\u001b[0m\u001b[0;34m)\u001b[0m\u001b[0;34m+\u001b[0m\u001b[0mstr\u001b[0m\u001b[0;34m(\u001b[0m\u001b[0mrs\u001b[0m\u001b[0;34m.\u001b[0m\u001b[0mcell\u001b[0m\u001b[0;34m(\u001b[0m\u001b[0mi\u001b[0m\u001b[0;34m,\u001b[0m\u001b[0;36m5\u001b[0m\u001b[0;34m)\u001b[0m\u001b[0;34m.\u001b[0m\u001b[0mvalue\u001b[0m\u001b[0;34m)\u001b[0m\u001b[0;34m+\u001b[0m\u001b[0mstr\u001b[0m\u001b[0;34m(\u001b[0m\u001b[0mrs\u001b[0m\u001b[0;34m.\u001b[0m\u001b[0mcell\u001b[0m\u001b[0;34m(\u001b[0m\u001b[0mi\u001b[0m\u001b[0;34m,\u001b[0m\u001b[0;36m6\u001b[0m\u001b[0;34m)\u001b[0m\u001b[0;34m.\u001b[0m\u001b[0mvalue\u001b[0m\u001b[0;34m)\u001b[0m\u001b[0;34m\u001b[0m\u001b[0m\n\u001b[1;32m      3\u001b[0m     \u001b[0mjieba_list\u001b[0m \u001b[0;34m=\u001b[0m \u001b[0mjieba\u001b[0m\u001b[0;34m.\u001b[0m\u001b[0mcut\u001b[0m\u001b[0;34m(\u001b[0m\u001b[0mst\u001b[0m\u001b[0;34m)\u001b[0m\u001b[0;34m\u001b[0m\u001b[0m\n\u001b[0;32m----> 4\u001b[0;31m     \u001b[0mcut_list1\u001b[0m \u001b[0;34m=\u001b[0m \u001b[0;34m[\u001b[0m \u001b[0mj\u001b[0m \u001b[0;32mfor\u001b[0m \u001b[0mj\u001b[0m \u001b[0;32min\u001b[0m \u001b[0mjieba_list\u001b[0m \u001b[0;34m]\u001b[0m\u001b[0;34m\u001b[0m\u001b[0m\n\u001b[0m\u001b[1;32m      5\u001b[0m \u001b[0;31m#     text_list.append([str(rs.cell(i,1).value)])\u001b[0m\u001b[0;34m\u001b[0m\u001b[0;34m\u001b[0m\u001b[0m\n\u001b[1;32m      6\u001b[0m \u001b[0;31m#     text_lable.append(rs.cell(i,7).value)\u001b[0m\u001b[0;34m\u001b[0m\u001b[0;34m\u001b[0m\u001b[0m\n",
      "\u001b[0;32m<ipython-input-24-00cdc2b719ca>\u001b[0m in \u001b[0;36m<listcomp>\u001b[0;34m(.0)\u001b[0m\n\u001b[1;32m      2\u001b[0m     \u001b[0mst\u001b[0m \u001b[0;34m=\u001b[0m \u001b[0mstr\u001b[0m\u001b[0;34m(\u001b[0m\u001b[0mrs\u001b[0m\u001b[0;34m.\u001b[0m\u001b[0mcell\u001b[0m\u001b[0;34m(\u001b[0m\u001b[0mi\u001b[0m\u001b[0;34m,\u001b[0m\u001b[0;36m1\u001b[0m\u001b[0;34m)\u001b[0m\u001b[0;34m.\u001b[0m\u001b[0mvalue\u001b[0m\u001b[0;34m)\u001b[0m\u001b[0;34m+\u001b[0m\u001b[0mstr\u001b[0m\u001b[0;34m(\u001b[0m\u001b[0mrs\u001b[0m\u001b[0;34m.\u001b[0m\u001b[0mcell\u001b[0m\u001b[0;34m(\u001b[0m\u001b[0mi\u001b[0m\u001b[0;34m,\u001b[0m\u001b[0;36m2\u001b[0m\u001b[0;34m)\u001b[0m\u001b[0;34m.\u001b[0m\u001b[0mvalue\u001b[0m\u001b[0;34m)\u001b[0m\u001b[0;34m+\u001b[0m\u001b[0mstr\u001b[0m\u001b[0;34m(\u001b[0m\u001b[0mrs\u001b[0m\u001b[0;34m.\u001b[0m\u001b[0mcell\u001b[0m\u001b[0;34m(\u001b[0m\u001b[0mi\u001b[0m\u001b[0;34m,\u001b[0m\u001b[0;36m4\u001b[0m\u001b[0;34m)\u001b[0m\u001b[0;34m.\u001b[0m\u001b[0mvalue\u001b[0m\u001b[0;34m)\u001b[0m\u001b[0;34m+\u001b[0m\u001b[0mstr\u001b[0m\u001b[0;34m(\u001b[0m\u001b[0mrs\u001b[0m\u001b[0;34m.\u001b[0m\u001b[0mcell\u001b[0m\u001b[0;34m(\u001b[0m\u001b[0mi\u001b[0m\u001b[0;34m,\u001b[0m\u001b[0;36m5\u001b[0m\u001b[0;34m)\u001b[0m\u001b[0;34m.\u001b[0m\u001b[0mvalue\u001b[0m\u001b[0;34m)\u001b[0m\u001b[0;34m+\u001b[0m\u001b[0mstr\u001b[0m\u001b[0;34m(\u001b[0m\u001b[0mrs\u001b[0m\u001b[0;34m.\u001b[0m\u001b[0mcell\u001b[0m\u001b[0;34m(\u001b[0m\u001b[0mi\u001b[0m\u001b[0;34m,\u001b[0m\u001b[0;36m6\u001b[0m\u001b[0;34m)\u001b[0m\u001b[0;34m.\u001b[0m\u001b[0mvalue\u001b[0m\u001b[0;34m)\u001b[0m\u001b[0;34m\u001b[0m\u001b[0m\n\u001b[1;32m      3\u001b[0m     \u001b[0mjieba_list\u001b[0m \u001b[0;34m=\u001b[0m \u001b[0mjieba\u001b[0m\u001b[0;34m.\u001b[0m\u001b[0mcut\u001b[0m\u001b[0;34m(\u001b[0m\u001b[0mst\u001b[0m\u001b[0;34m)\u001b[0m\u001b[0;34m\u001b[0m\u001b[0m\n\u001b[0;32m----> 4\u001b[0;31m     \u001b[0mcut_list1\u001b[0m \u001b[0;34m=\u001b[0m \u001b[0;34m[\u001b[0m \u001b[0mj\u001b[0m \u001b[0;32mfor\u001b[0m \u001b[0mj\u001b[0m \u001b[0;32min\u001b[0m \u001b[0mjieba_list\u001b[0m \u001b[0;34m]\u001b[0m\u001b[0;34m\u001b[0m\u001b[0m\n\u001b[0m\u001b[1;32m      5\u001b[0m \u001b[0;31m#     text_list.append([str(rs.cell(i,1).value)])\u001b[0m\u001b[0;34m\u001b[0m\u001b[0;34m\u001b[0m\u001b[0m\n\u001b[1;32m      6\u001b[0m \u001b[0;31m#     text_lable.append(rs.cell(i,7).value)\u001b[0m\u001b[0;34m\u001b[0m\u001b[0;34m\u001b[0m\u001b[0m\n",
      "\u001b[0;32m~/anaconda3/lib/python3.6/site-packages/jieba/__init__.py\u001b[0m in \u001b[0;36mcut\u001b[0;34m(self, sentence, cut_all, HMM)\u001b[0m\n\u001b[1;32m    298\u001b[0m             \u001b[0;32mif\u001b[0m \u001b[0;32mnot\u001b[0m \u001b[0mblk\u001b[0m\u001b[0;34m:\u001b[0m\u001b[0;34m\u001b[0m\u001b[0m\n\u001b[1;32m    299\u001b[0m                 \u001b[0;32mcontinue\u001b[0m\u001b[0;34m\u001b[0m\u001b[0m\n\u001b[0;32m--> 300\u001b[0;31m             \u001b[0;32mif\u001b[0m \u001b[0mre_han\u001b[0m\u001b[0;34m.\u001b[0m\u001b[0mmatch\u001b[0m\u001b[0;34m(\u001b[0m\u001b[0mblk\u001b[0m\u001b[0;34m)\u001b[0m\u001b[0;34m:\u001b[0m\u001b[0;34m\u001b[0m\u001b[0m\n\u001b[0m\u001b[1;32m    301\u001b[0m                 \u001b[0;32mfor\u001b[0m \u001b[0mword\u001b[0m \u001b[0;32min\u001b[0m \u001b[0mcut_block\u001b[0m\u001b[0;34m(\u001b[0m\u001b[0mblk\u001b[0m\u001b[0;34m)\u001b[0m\u001b[0;34m:\u001b[0m\u001b[0;34m\u001b[0m\u001b[0m\n\u001b[1;32m    302\u001b[0m                     \u001b[0;32myield\u001b[0m \u001b[0mword\u001b[0m\u001b[0;34m\u001b[0m\u001b[0m\n",
      "\u001b[0;31mKeyboardInterrupt\u001b[0m: "
     ]
    }
   ],
   "source": [
    "for i in range(1,rs.nrows):\n",
    "    st = str(rs.cell(i,1).value)+str(rs.cell(i,2).value)+str(rs.cell(i,4).value)+str(rs.cell(i,5).value)+str(rs.cell(i,6).value)\n",
    "    \n",
    "    jieba_list = jieba.cut(st)\n",
    "    cut_list1 = [ j for j in jieba_list ]\n",
    "#     text_list.append([str(rs.cell(i,1).value)])\n",
    "#     text_lable.append(rs.cell(i,7).value)\n",
    "    text_list.append(cut_list1)\n",
    "    text_lable.append(rs.cell(i,7).value)\n",
    "    if i == 1:\n",
    "        print(st)"
   ]
  },
  {
   "cell_type": "code",
   "execution_count": 14,
   "metadata": {},
   "outputs": [],
   "source": [
    "from gensim.test.utils import common_texts"
   ]
  },
  {
   "cell_type": "code",
   "execution_count": 15,
   "metadata": {},
   "outputs": [
    {
     "data": {
      "text/plain": [
       "[['human', 'interface', 'computer'],\n",
       " ['survey', 'user', 'computer', 'system', 'response', 'time'],\n",
       " ['eps', 'user', 'interface', 'system'],\n",
       " ['system', 'human', 'system', 'eps'],\n",
       " ['user', 'response', 'time'],\n",
       " ['trees'],\n",
       " ['graph', 'trees'],\n",
       " ['graph', 'minors', 'trees'],\n",
       " ['graph', 'minors', 'survey']]"
      ]
     },
     "execution_count": 15,
     "metadata": {},
     "output_type": "execute_result"
    }
   ],
   "source": [
    "common_texts"
   ]
  },
  {
   "cell_type": "code",
   "execution_count": 16,
   "metadata": {},
   "outputs": [
    {
     "data": {
      "text/plain": [
       "list"
      ]
     },
     "execution_count": 16,
     "metadata": {},
     "output_type": "execute_result"
    }
   ],
   "source": [
    "type(common_texts)"
   ]
  },
  {
   "cell_type": "code",
   "execution_count": 23,
   "metadata": {},
   "outputs": [
    {
     "data": {
      "text/plain": [
       "['求', '吉林长春', '净月区', '的', '所有', '大学', '_', '百度', '知道']"
      ]
     },
     "execution_count": 23,
     "metadata": {},
     "output_type": "execute_result"
    }
   ],
   "source": [
    "text_list[0]\n",
    "# rs.nrows"
   ]
  },
  {
   "cell_type": "markdown",
   "metadata": {},
   "source": [
    "加载构建向量第三方库"
   ]
  },
  {
   "cell_type": "code",
   "execution_count": 94,
   "metadata": {},
   "outputs": [],
   "source": [
    "# for label in  enumerate(text_lable)\n",
    "# documents = [TaggedDocument(text_list[i], [rs.cell(i,7).value]) for i in range(1,4300)]\n",
    "documents = [TaggedDocument(doc, [i]) for i, doc in enumerate(text_list)]\n",
    "model = Doc2Vec(documents, vector_size=5, window=2, min_count=1, workers=4)\n",
    "# model.train(text_list, total_examples=model.corpus_count, epochs=70)"
   ]
  },
  {
   "cell_type": "code",
   "execution_count": 95,
   "metadata": {},
   "outputs": [
    {
     "data": {
      "text/plain": [
       "TaggedDocument(words=['长春市', '实验', '中学', '净', '月', '学校', '_', '学', '-', '首页'], tags=[10])"
      ]
     },
     "execution_count": 95,
     "metadata": {},
     "output_type": "execute_result"
    }
   ],
   "source": [
    "type(documents)\n",
    "documents[10]"
   ]
  },
  {
   "cell_type": "code",
   "execution_count": 96,
   "metadata": {},
   "outputs": [],
   "source": [
    "#将模型保存\n",
    "from gensim.test.utils import get_tmpfile\n",
    "\n",
    "fname = get_tmpfile(\"my_doc2vec_model\")\n",
    "\n",
    "model.save(fname)\n",
    "#加载模型\n",
    "model = Doc2Vec.load(fname)"
   ]
  },
  {
   "cell_type": "code",
   "execution_count": 97,
   "metadata": {},
   "outputs": [],
   "source": [
    "#已完成模型训练（=不再更新，仅查询，减少内存使用）\n",
    "model.delete_temporary_training_data(keep_doctags_vectors=True, keep_inference=True)"
   ]
  },
  {
   "cell_type": "code",
   "execution_count": 98,
   "metadata": {},
   "outputs": [
    {
     "data": {
      "text/plain": [
       "array([ 0.05332169, -0.05471705, -0.07858792, -0.03349514, -0.09630442],\n",
       "      dtype=float32)"
      ]
     },
     "execution_count": 98,
     "metadata": {},
     "output_type": "execute_result"
    }
   ],
   "source": [
    "model.infer_vector(['2018东北师范大学校园概况之净月校区-净月校区图文介绍-净月校区...'])"
   ]
  },
  {
   "cell_type": "code",
   "execution_count": 99,
   "metadata": {},
   "outputs": [
    {
     "data": {
      "text/plain": [
       "array([ 0.07587329, -0.03501265, -0.08501966,  0.04046297,  0.05179763],\n",
       "      dtype=float32)"
      ]
     },
     "execution_count": 99,
     "metadata": {},
     "output_type": "execute_result"
    }
   ],
   "source": [
    "model.infer_vector(['2018东北师范大学学校情况之净月校区-净月校区图文介绍-净月校区...'])"
   ]
  },
  {
   "cell_type": "code",
   "execution_count": 100,
   "metadata": {},
   "outputs": [
    {
     "data": {
      "text/plain": [
       "array([ 0.04539145,  0.08157185,  0.0507837 , -0.05943672, -0.00047193],\n",
       "      dtype=float32)"
      ]
     },
     "execution_count": 100,
     "metadata": {},
     "output_type": "execute_result"
    }
   ],
   "source": [
    "model.infer_vector(['真不知道说什么'])"
   ]
  },
  {
   "cell_type": "code",
   "execution_count": 101,
   "metadata": {},
   "outputs": [
    {
     "name": "stderr",
     "output_type": "stream",
     "text": [
      "/Users/mccat/anaconda3/lib/python3.6/site-packages/gensim/matutils.py:737: FutureWarning: Conversion of the second argument of issubdtype from `int` to `np.signedinteger` is deprecated. In future, it will be treated as `np.int64 == np.dtype(int).type`.\n",
      "  if np.issubdtype(vec.dtype, np.int):\n"
     ]
    },
    {
     "data": {
      "text/plain": [
       "[(3951, 0.9988572001457214),\n",
       " (2925, 0.9962765574455261),\n",
       " (3064, 0.9934536218643188),\n",
       " (3969, 0.9926314353942871),\n",
       " (2851, 0.9915133118629456),\n",
       " (2209, 0.9913701415061951),\n",
       " (684, 0.991215705871582),\n",
       " (590, 0.9907518625259399),\n",
       " (4070, 0.990214467048645),\n",
       " (3182, 0.9886208772659302)]"
      ]
     },
     "execution_count": 101,
     "metadata": {},
     "output_type": "execute_result"
    }
   ],
   "source": [
    "#寻找与某个文档最相似的文档\n",
    "model.docvecs.most_similar(100)"
   ]
  },
  {
   "cell_type": "code",
   "execution_count": 102,
   "metadata": {},
   "outputs": [
    {
     "name": "stdout",
     "output_type": "stream",
     "text": [
      "number:0.0\n",
      "number:1.0\n",
      "number:1.0\n",
      "number:1.0\n",
      "number:0.0\n",
      "number:0.0\n",
      "number:1.0\n",
      "number:1.0\n",
      "number:0.0\n",
      "number:1.0\n",
      "number:1.0\n"
     ]
    }
   ],
   "source": [
    "tests =[(3951, 0.9988572001457214),\n",
    " (2925, 0.9962765574455261),\n",
    " (3064, 0.9934536218643188),\n",
    " (3969, 0.9926314353942871),\n",
    " (2851, 0.9915133118629456),\n",
    " (2209, 0.9913701415061951),\n",
    " (684, 0.991215705871582),\n",
    " (590, 0.9907518625259399),\n",
    " (4070, 0.990214467048645),\n",
    " (3182, 0.9886208772659302)]\n",
    "for test in tests:\n",
    "    print(rs.cell(test[0],7))\n",
    "print(rs.cell(100,7))"
   ]
  },
  {
   "cell_type": "code",
   "execution_count": 103,
   "metadata": {},
   "outputs": [
    {
     "data": {
      "text/plain": [
       "array([ 0.0195021 ,  0.10887525, -0.04643046,  0.07751875, -0.00699571],\n",
       "      dtype=float32)"
      ]
     },
     "execution_count": 103,
     "metadata": {},
     "output_type": "execute_result"
    }
   ],
   "source": [
    "model.infer_vector([\"吉林\", \"南关区\"])"
   ]
  },
  {
   "cell_type": "code",
   "execution_count": null,
   "metadata": {},
   "outputs": [],
   "source": []
  }
 ],
 "metadata": {
  "kernelspec": {
   "display_name": "Python 3",
   "language": "python",
   "name": "python3"
  },
  "language_info": {
   "codemirror_mode": {
    "name": "ipython",
    "version": 3
   },
   "file_extension": ".py",
   "mimetype": "text/x-python",
   "name": "python",
   "nbconvert_exporter": "python",
   "pygments_lexer": "ipython3",
   "version": "3.6.5"
  }
 },
 "nbformat": 4,
 "nbformat_minor": 1
}
